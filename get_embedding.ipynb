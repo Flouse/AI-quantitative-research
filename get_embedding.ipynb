{
 "cells": [
  {
   "cell_type": "code",
   "execution_count": 1,
   "metadata": {},
   "outputs": [],
   "source": [
    "import pandas as pd\n",
    "import numpy as np\n",
    "import random"
   ]
  },
  {
   "cell_type": "code",
   "execution_count": 2,
   "metadata": {},
   "outputs": [],
   "source": [
    "import networkx as nx\n",
    "import matplotlib.pyplot as plt\n",
    "%matplotlib inline"
   ]
  },
  {
   "cell_type": "code",
   "execution_count": 3,
   "metadata": {},
   "outputs": [],
   "source": [
    "from gensim.models import Word2Vec"
   ]
  },
  {
   "cell_type": "code",
   "execution_count": 4,
   "metadata": {},
   "outputs": [],
   "source": [
    "df = pd.read_csv('fund_stock_2020_10000.csv',index_col=0)"
   ]
  },
  {
   "cell_type": "code",
   "execution_count": 5,
   "metadata": {
    "scrolled": true
   },
   "outputs": [
    {
     "data": {
      "text/html": [
       "<div>\n",
       "<style scoped>\n",
       "    .dataframe tbody tr th:only-of-type {\n",
       "        vertical-align: middle;\n",
       "    }\n",
       "\n",
       "    .dataframe tbody tr th {\n",
       "        vertical-align: top;\n",
       "    }\n",
       "\n",
       "    .dataframe thead th {\n",
       "        text-align: right;\n",
       "    }\n",
       "</style>\n",
       "<table border=\"1\" class=\"dataframe\">\n",
       "  <thead>\n",
       "    <tr style=\"text-align: right;\">\n",
       "      <th></th>\n",
       "      <th>id</th>\n",
       "      <th>code</th>\n",
       "      <th>period_start</th>\n",
       "      <th>period_end</th>\n",
       "      <th>pub_date</th>\n",
       "      <th>report_type_id</th>\n",
       "      <th>report_type</th>\n",
       "      <th>rank</th>\n",
       "      <th>symbol</th>\n",
       "      <th>name</th>\n",
       "      <th>shares</th>\n",
       "      <th>market_cap</th>\n",
       "      <th>proportion</th>\n",
       "      <th>year</th>\n",
       "    </tr>\n",
       "  </thead>\n",
       "  <tbody>\n",
       "    <tr>\n",
       "      <th>0</th>\n",
       "      <td>9999061</td>\n",
       "      <td>1</td>\n",
       "      <td>2020-01-01</td>\n",
       "      <td>2020-03-31</td>\n",
       "      <td>2020-04-22</td>\n",
       "      <td>403001</td>\n",
       "      <td>第一季度</td>\n",
       "      <td>1</td>\n",
       "      <td>002127</td>\n",
       "      <td>南极电商</td>\n",
       "      <td>26198807.0</td>\n",
       "      <td>3.039062e+08</td>\n",
       "      <td>6.92</td>\n",
       "      <td>2020</td>\n",
       "    </tr>\n",
       "    <tr>\n",
       "      <th>1</th>\n",
       "      <td>9999062</td>\n",
       "      <td>1</td>\n",
       "      <td>2020-01-01</td>\n",
       "      <td>2020-03-31</td>\n",
       "      <td>2020-04-22</td>\n",
       "      <td>403001</td>\n",
       "      <td>第一季度</td>\n",
       "      <td>2</td>\n",
       "      <td>600048</td>\n",
       "      <td>保利地产</td>\n",
       "      <td>14984439.0</td>\n",
       "      <td>2.228186e+08</td>\n",
       "      <td>5.07</td>\n",
       "      <td>2020</td>\n",
       "    </tr>\n",
       "    <tr>\n",
       "      <th>2</th>\n",
       "      <td>9999063</td>\n",
       "      <td>1</td>\n",
       "      <td>2020-01-01</td>\n",
       "      <td>2020-03-31</td>\n",
       "      <td>2020-04-22</td>\n",
       "      <td>403001</td>\n",
       "      <td>第一季度</td>\n",
       "      <td>3</td>\n",
       "      <td>002271</td>\n",
       "      <td>东方雨虹</td>\n",
       "      <td>6512154.0</td>\n",
       "      <td>2.216086e+08</td>\n",
       "      <td>5.05</td>\n",
       "      <td>2020</td>\n",
       "    </tr>\n",
       "    <tr>\n",
       "      <th>3</th>\n",
       "      <td>9999064</td>\n",
       "      <td>1</td>\n",
       "      <td>2020-01-01</td>\n",
       "      <td>2020-03-31</td>\n",
       "      <td>2020-04-22</td>\n",
       "      <td>403001</td>\n",
       "      <td>第一季度</td>\n",
       "      <td>4</td>\n",
       "      <td>002643</td>\n",
       "      <td>万润股份</td>\n",
       "      <td>16103018.0</td>\n",
       "      <td>2.040252e+08</td>\n",
       "      <td>4.65</td>\n",
       "      <td>2020</td>\n",
       "    </tr>\n",
       "    <tr>\n",
       "      <th>4</th>\n",
       "      <td>9999065</td>\n",
       "      <td>1</td>\n",
       "      <td>2020-01-01</td>\n",
       "      <td>2020-03-31</td>\n",
       "      <td>2020-04-22</td>\n",
       "      <td>403001</td>\n",
       "      <td>第一季度</td>\n",
       "      <td>5</td>\n",
       "      <td>000858</td>\n",
       "      <td>五粮液</td>\n",
       "      <td>1169196.0</td>\n",
       "      <td>1.346914e+08</td>\n",
       "      <td>3.07</td>\n",
       "      <td>2020</td>\n",
       "    </tr>\n",
       "    <tr>\n",
       "      <th>...</th>\n",
       "      <td>...</td>\n",
       "      <td>...</td>\n",
       "      <td>...</td>\n",
       "      <td>...</td>\n",
       "      <td>...</td>\n",
       "      <td>...</td>\n",
       "      <td>...</td>\n",
       "      <td>...</td>\n",
       "      <td>...</td>\n",
       "      <td>...</td>\n",
       "      <td>...</td>\n",
       "      <td>...</td>\n",
       "      <td>...</td>\n",
       "      <td>...</td>\n",
       "    </tr>\n",
       "    <tr>\n",
       "      <th>37654</th>\n",
       "      <td>9972386</td>\n",
       "      <td>9163</td>\n",
       "      <td>2020-03-18</td>\n",
       "      <td>2020-03-31</td>\n",
       "      <td>2020-04-21</td>\n",
       "      <td>403001</td>\n",
       "      <td>第一季度</td>\n",
       "      <td>6</td>\n",
       "      <td>000661</td>\n",
       "      <td>长春高新</td>\n",
       "      <td>451097.0</td>\n",
       "      <td>2.472012e+08</td>\n",
       "      <td>6.13</td>\n",
       "      <td>2020</td>\n",
       "    </tr>\n",
       "    <tr>\n",
       "      <th>37655</th>\n",
       "      <td>9972387</td>\n",
       "      <td>9163</td>\n",
       "      <td>2020-03-18</td>\n",
       "      <td>2020-03-31</td>\n",
       "      <td>2020-04-21</td>\n",
       "      <td>403001</td>\n",
       "      <td>第一季度</td>\n",
       "      <td>7</td>\n",
       "      <td>603259</td>\n",
       "      <td>药明康德</td>\n",
       "      <td>2420352.0</td>\n",
       "      <td>2.190177e+08</td>\n",
       "      <td>5.43</td>\n",
       "      <td>2020</td>\n",
       "    </tr>\n",
       "    <tr>\n",
       "      <th>37656</th>\n",
       "      <td>9972388</td>\n",
       "      <td>9163</td>\n",
       "      <td>2020-03-18</td>\n",
       "      <td>2020-03-31</td>\n",
       "      <td>2020-04-21</td>\n",
       "      <td>403001</td>\n",
       "      <td>第一季度</td>\n",
       "      <td>8</td>\n",
       "      <td>300677</td>\n",
       "      <td>英科医疗</td>\n",
       "      <td>4144542.0</td>\n",
       "      <td>1.912002e+08</td>\n",
       "      <td>4.74</td>\n",
       "      <td>2020</td>\n",
       "    </tr>\n",
       "    <tr>\n",
       "      <th>37657</th>\n",
       "      <td>9972389</td>\n",
       "      <td>9163</td>\n",
       "      <td>2020-03-18</td>\n",
       "      <td>2020-03-31</td>\n",
       "      <td>2020-04-21</td>\n",
       "      <td>403001</td>\n",
       "      <td>第一季度</td>\n",
       "      <td>9</td>\n",
       "      <td>300347</td>\n",
       "      <td>泰格医药</td>\n",
       "      <td>2909849.0</td>\n",
       "      <td>1.863758e+08</td>\n",
       "      <td>4.62</td>\n",
       "      <td>2020</td>\n",
       "    </tr>\n",
       "    <tr>\n",
       "      <th>37658</th>\n",
       "      <td>9972390</td>\n",
       "      <td>9163</td>\n",
       "      <td>2020-03-18</td>\n",
       "      <td>2020-03-31</td>\n",
       "      <td>2020-04-21</td>\n",
       "      <td>403001</td>\n",
       "      <td>第一季度</td>\n",
       "      <td>10</td>\n",
       "      <td>002821</td>\n",
       "      <td>凯莱英</td>\n",
       "      <td>1080521.0</td>\n",
       "      <td>1.855147e+08</td>\n",
       "      <td>4.60</td>\n",
       "      <td>2020</td>\n",
       "    </tr>\n",
       "  </tbody>\n",
       "</table>\n",
       "<p>37659 rows × 14 columns</p>\n",
       "</div>"
      ],
      "text/plain": [
       "            id  code period_start  period_end    pub_date  report_type_id  \\\n",
       "0      9999061     1   2020-01-01  2020-03-31  2020-04-22          403001   \n",
       "1      9999062     1   2020-01-01  2020-03-31  2020-04-22          403001   \n",
       "2      9999063     1   2020-01-01  2020-03-31  2020-04-22          403001   \n",
       "3      9999064     1   2020-01-01  2020-03-31  2020-04-22          403001   \n",
       "4      9999065     1   2020-01-01  2020-03-31  2020-04-22          403001   \n",
       "...        ...   ...          ...         ...         ...             ...   \n",
       "37654  9972386  9163   2020-03-18  2020-03-31  2020-04-21          403001   \n",
       "37655  9972387  9163   2020-03-18  2020-03-31  2020-04-21          403001   \n",
       "37656  9972388  9163   2020-03-18  2020-03-31  2020-04-21          403001   \n",
       "37657  9972389  9163   2020-03-18  2020-03-31  2020-04-21          403001   \n",
       "37658  9972390  9163   2020-03-18  2020-03-31  2020-04-21          403001   \n",
       "\n",
       "      report_type  rank  symbol  name      shares    market_cap  proportion  \\\n",
       "0            第一季度     1  002127  南极电商  26198807.0  3.039062e+08        6.92   \n",
       "1            第一季度     2  600048  保利地产  14984439.0  2.228186e+08        5.07   \n",
       "2            第一季度     3  002271  东方雨虹   6512154.0  2.216086e+08        5.05   \n",
       "3            第一季度     4  002643  万润股份  16103018.0  2.040252e+08        4.65   \n",
       "4            第一季度     5  000858   五粮液   1169196.0  1.346914e+08        3.07   \n",
       "...           ...   ...     ...   ...         ...           ...         ...   \n",
       "37654        第一季度     6  000661  长春高新    451097.0  2.472012e+08        6.13   \n",
       "37655        第一季度     7  603259  药明康德   2420352.0  2.190177e+08        5.43   \n",
       "37656        第一季度     8  300677  英科医疗   4144542.0  1.912002e+08        4.74   \n",
       "37657        第一季度     9  300347  泰格医药   2909849.0  1.863758e+08        4.62   \n",
       "37658        第一季度    10  002821   凯莱英   1080521.0  1.855147e+08        4.60   \n",
       "\n",
       "       year  \n",
       "0      2020  \n",
       "1      2020  \n",
       "2      2020  \n",
       "3      2020  \n",
       "4      2020  \n",
       "...     ...  \n",
       "37654  2020  \n",
       "37655  2020  \n",
       "37656  2020  \n",
       "37657  2020  \n",
       "37658  2020  \n",
       "\n",
       "[37659 rows x 14 columns]"
      ]
     },
     "execution_count": 5,
     "metadata": {},
     "output_type": "execute_result"
    }
   ],
   "source": [
    "df"
   ]
  },
  {
   "cell_type": "code",
   "execution_count": 6,
   "metadata": {},
   "outputs": [
    {
     "data": {
      "text/plain": [
       "2030"
      ]
     },
     "execution_count": 6,
     "metadata": {},
     "output_type": "execute_result"
    }
   ],
   "source": [
    "len(set(df['symbol']))"
   ]
  },
  {
   "cell_type": "code",
   "execution_count": 7,
   "metadata": {},
   "outputs": [],
   "source": [
    "# generate graph \n",
    "G=nx.from_pandas_edgelist(df,'code','symbol',['market_cap'])"
   ]
  },
  {
   "cell_type": "code",
   "execution_count": 8,
   "metadata": {},
   "outputs": [
    {
     "data": {
      "text/plain": [
       "5789"
      ]
     },
     "execution_count": 8,
     "metadata": {},
     "output_type": "execute_result"
    }
   ],
   "source": [
    "G.number_of_nodes()"
   ]
  },
  {
   "cell_type": "code",
   "execution_count": 9,
   "metadata": {},
   "outputs": [
    {
     "data": {
      "text/plain": [
       "37642"
      ]
     },
     "execution_count": 9,
     "metadata": {},
     "output_type": "execute_result"
    }
   ],
   "source": [
    "G.number_of_edges()"
   ]
  },
  {
   "cell_type": "code",
   "execution_count": 10,
   "metadata": {},
   "outputs": [
    {
     "data": {
      "text/plain": [
       "True"
      ]
     },
     "execution_count": 10,
     "metadata": {},
     "output_type": "execute_result"
    }
   ],
   "source": [
    "nx.is_bipartite(G)"
   ]
  },
  {
   "cell_type": "code",
   "execution_count": 11,
   "metadata": {},
   "outputs": [],
   "source": [
    "fund_set = set(df['code'])"
   ]
  },
  {
   "cell_type": "code",
   "execution_count": 12,
   "metadata": {},
   "outputs": [],
   "source": [
    "stock_set = set(df['symbol'])"
   ]
  },
  {
   "cell_type": "code",
   "execution_count": 16,
   "metadata": {},
   "outputs": [],
   "source": [
    "weight = nx.get_edge_attributes(G, 'market_cap')"
   ]
  },
  {
   "cell_type": "code",
   "execution_count": 19,
   "metadata": {},
   "outputs": [],
   "source": [
    "def simulate_walks(num_walks, walk_length):\n",
    "    walks = []\n",
    "    nodes = list(stock_set)\n",
    "    print('Walk iteration:')\n",
    "    for walk_iter in range(num_walks):\n",
    "        print(str(walk_iter + 1), '/', str(num_walks))\n",
    "        random.shuffle(nodes)\n",
    "        for node in nodes:\n",
    "            new_walk = node2vec_walk(walk_length=walk_length, start_node=node)\n",
    "            new_walk = new_walk[0::2]\n",
    "            walks.append(new_walk)\n",
    "\n",
    "    return walks"
   ]
  },
  {
   "cell_type": "code",
   "execution_count": 20,
   "metadata": {},
   "outputs": [],
   "source": [
    "def walk_one_step(cur_node):\n",
    "    prob = np.random.rand()\n",
    "    nbr = list(G.neighbors(cur_node))\n",
    "    if len(nbr) == 0:\n",
    "        return None\n",
    "    weights = []\n",
    "    for value in nbr:\n",
    "        weights.append(G[cur_node][value]['market_cap'])\n",
    "    weights = np.array(weights)/sum(weights)\n",
    "    num = 0\n",
    "    for i in range(len(nbr)):\n",
    "        num += weights[i]\n",
    "        if prob < num:\n",
    "            return nbr[i]\n",
    "    "
   ]
  },
  {
   "cell_type": "code",
   "execution_count": 22,
   "metadata": {},
   "outputs": [],
   "source": [
    "def node2vec_walk(walk_length,start_node):\n",
    "    walk = []\n",
    "    walk.append(start_node)\n",
    "    for i in range(walk_length):\n",
    "        next_node = walk_one_step(walk[-1])\n",
    "        if next_node == None:\n",
    "            break\n",
    "        else:\n",
    "            walk.append(next_node)\n",
    "    return walk"
   ]
  },
  {
   "cell_type": "code",
   "execution_count": 24,
   "metadata": {},
   "outputs": [
    {
     "name": "stdout",
     "output_type": "stream",
     "text": [
      "Walk iteration:\n",
      "1 / 100\n",
      "2 / 100\n",
      "3 / 100\n",
      "4 / 100\n",
      "5 / 100\n",
      "6 / 100\n",
      "7 / 100\n",
      "8 / 100\n",
      "9 / 100\n",
      "10 / 100\n",
      "11 / 100\n",
      "12 / 100\n",
      "13 / 100\n",
      "14 / 100\n",
      "15 / 100\n",
      "16 / 100\n",
      "17 / 100\n",
      "18 / 100\n",
      "19 / 100\n",
      "20 / 100\n",
      "21 / 100\n",
      "22 / 100\n",
      "23 / 100\n",
      "24 / 100\n",
      "25 / 100\n",
      "26 / 100\n",
      "27 / 100\n",
      "28 / 100\n",
      "29 / 100\n",
      "30 / 100\n",
      "31 / 100\n",
      "32 / 100\n",
      "33 / 100\n",
      "34 / 100\n",
      "35 / 100\n",
      "36 / 100\n",
      "37 / 100\n",
      "38 / 100\n",
      "39 / 100\n",
      "40 / 100\n",
      "41 / 100\n",
      "42 / 100\n",
      "43 / 100\n",
      "44 / 100\n",
      "45 / 100\n",
      "46 / 100\n",
      "47 / 100\n",
      "48 / 100\n",
      "49 / 100\n",
      "50 / 100\n",
      "51 / 100\n",
      "52 / 100\n",
      "53 / 100\n",
      "54 / 100\n",
      "55 / 100\n",
      "56 / 100\n",
      "57 / 100\n",
      "58 / 100\n",
      "59 / 100\n",
      "60 / 100\n",
      "61 / 100\n",
      "62 / 100\n",
      "63 / 100\n",
      "64 / 100\n",
      "65 / 100\n",
      "66 / 100\n",
      "67 / 100\n",
      "68 / 100\n",
      "69 / 100\n",
      "70 / 100\n",
      "71 / 100\n",
      "72 / 100\n",
      "73 / 100\n",
      "74 / 100\n",
      "75 / 100\n",
      "76 / 100\n",
      "77 / 100\n",
      "78 / 100\n",
      "79 / 100\n",
      "80 / 100\n",
      "81 / 100\n",
      "82 / 100\n",
      "83 / 100\n",
      "84 / 100\n",
      "85 / 100\n",
      "86 / 100\n",
      "87 / 100\n",
      "88 / 100\n",
      "89 / 100\n",
      "90 / 100\n",
      "91 / 100\n",
      "92 / 100\n",
      "93 / 100\n",
      "94 / 100\n",
      "95 / 100\n",
      "96 / 100\n",
      "97 / 100\n",
      "98 / 100\n",
      "99 / 100\n",
      "100 / 100\n"
     ]
    }
   ],
   "source": [
    "walks = simulate_walks(num_walks = 100, walk_length=200)\n",
    "#walks = simulate_walks(num_walks = 1, walk_length=10)"
   ]
  },
  {
   "cell_type": "code",
   "execution_count": 25,
   "metadata": {},
   "outputs": [],
   "source": [
    "# generate embedding\n",
    "model = Word2Vec(walks, size=32, window=6, min_count=0, sg=1, workers=2, iter=30)"
   ]
  },
  {
   "cell_type": "code",
   "execution_count": 26,
   "metadata": {},
   "outputs": [],
   "source": [
    "model.wv.save_word2vec_format('Data/embed_2020.emb')"
   ]
  }
 ],
 "metadata": {
  "kernelspec": {
   "display_name": "Python 3",
   "language": "python",
   "name": "python3"
  },
  "language_info": {
   "codemirror_mode": {
    "name": "ipython",
    "version": 3
   },
   "file_extension": ".py",
   "mimetype": "text/x-python",
   "name": "python",
   "nbconvert_exporter": "python",
   "pygments_lexer": "ipython3",
   "version": "3.7.6"
  }
 },
 "nbformat": 4,
 "nbformat_minor": 4
}
