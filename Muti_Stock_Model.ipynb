{
  "nbformat": 4,
  "nbformat_minor": 0,
  "metadata": {
    "colab": {
      "name": "Muti Stock Model.ipynb",
      "provenance": [],
      "collapsed_sections": []
    },
    "kernelspec": {
      "display_name": "Python 3",
      "name": "python3"
    },
    "accelerator": "GPU"
  },
  "cells": [
    {
      "cell_type": "code",
      "metadata": {
        "id": "A_K8utYFmEbz"
      },
      "source": [
        "!pip install jqdatasdk"
      ],
      "execution_count": null,
      "outputs": []
    },
    {
      "cell_type": "code",
      "metadata": {
        "id": "3R0ekOl646pX"
      },
      "source": [
        "!pip install pyts"
      ],
      "execution_count": null,
      "outputs": []
    },
    {
      "cell_type": "code",
      "metadata": {
        "id": "F0W544D9mNFh"
      },
      "source": [
        "from jqdatasdk import *\n",
        "# phone number / password for joinquant\n",
        "auth('','')"
      ],
      "execution_count": null,
      "outputs": []
    },
    {
      "cell_type": "code",
      "metadata": {
        "id": "uAodmbD_mc_M"
      },
      "source": [
        "import pandas as pd\n",
        "import numpy as np\n",
        "from pyts.image import GramianAngularField\n",
        "import matplotlib.pyplot as plt\n",
        "import time\n",
        "import random\n",
        "from collections import deque\n",
        "import tensorflow as tf\n",
        "from tensorflow.keras import layers, models"
      ],
      "execution_count": 3,
      "outputs": []
    },
    {
      "cell_type": "code",
      "metadata": {
        "id": "HrxcZ4xxmkgc"
      },
      "source": [
        "# data test\n",
        "security = '300999.XSHE'\n",
        "df_daily = get_price(security, start_date='2018-01-01', end_date='2019-12-31', frequency='daily')\n",
        "df_hour = get_price(security, start_date='2018-01-01', end_date='2019-12-31', frequency='60m')"
      ],
      "execution_count": 78,
      "outputs": []
    },
    {
      "cell_type": "code",
      "metadata": {
        "id": "jLcOf2yZnW4L"
      },
      "source": [
        "df_hour"
      ],
      "execution_count": null,
      "outputs": []
    },
    {
      "cell_type": "code",
      "metadata": {
        "id": "1E19cAdKohBf"
      },
      "source": [
        "df_daily"
      ],
      "execution_count": null,
      "outputs": []
    },
    {
      "cell_type": "code",
      "metadata": {
        "id": "QyU4muD9tUqi"
      },
      "source": [
        "def get_train_data(security):\n",
        "  #security = '000002.XSHE'\n",
        "  # get data\n",
        "  df_daily = get_price(security, start_date='2018-01-01', end_date='2019-12-31', frequency='daily')\n",
        "  df_daily.head()\n",
        "  df_hour = get_price(security, start_date='2018-01-01', end_date='2019-12-31', frequency='60m')\n",
        "  df_hour.head()\n",
        "  trading_hour = list(df_hour.index)\n",
        "  trading_day = list(df_daily.index)\n",
        "\n",
        "  # save necessary data\n",
        "  data = []\n",
        "  for index in range(30, len(trading_day)-2):\n",
        "    tmp = {}\n",
        "    tmp['time'] = trading_day[index].date()\n",
        "    end_index = trading_day.index(trading_day[index]) + 1\n",
        "    start_index = end_index - 10\n",
        "    tmp['day_close'] = list(df_daily[start_index:end_index]['close'])\n",
        "    tmp['day_high'] = list(df_daily[start_index:end_index]['high'])\n",
        "    tmp['day_open'] = list(df_daily[start_index:end_index]['open'])\n",
        "    tmp['day_low'] = list(df_daily[start_index:end_index]['low'])\n",
        "    tmp['day_volume'] = list(df_daily[start_index:end_index]['volume'])\n",
        "    tmp['reward'] = float(df_daily[end_index:end_index+1]['open']) - float(df_daily[end_index-1:end_index]['open'])\n",
        "    end_index = trading_hour.index(trading_day[index+1].date())\n",
        "    start_index = end_index - 10\n",
        "    tmp['hour_close'] = list(df_hour[start_index:end_index]['close'])\n",
        "    tmp['hour_high'] = list(df_hour[start_index:end_index]['high'])\n",
        "    tmp['hour_open'] = list(df_hour[start_index:end_index]['open'])\n",
        "    tmp['hour_low'] = list(df_hour[start_index:end_index]['low'])\n",
        "    tmp['hour_volume'] = list(df_hour[start_index:end_index]['volume'])\n",
        "    data.append(tmp)\n",
        "\n",
        "  # transfer list data into image data\n",
        "  image_data = []\n",
        "  for index in range(len(data)):\n",
        "    sample_input = data[index]\n",
        "    transformer = GramianAngularField()\n",
        "    sample_day_close = np.array(sample_input['day_close']).reshape(1,10)\n",
        "    sample_day_high = np.array(sample_input['day_high']).reshape(1,10)\n",
        "    sample_day_open = np.array(sample_input['day_open']).reshape(1,10)\n",
        "    sample_day_low = np.array(sample_input['day_low']).reshape(1,10)\n",
        "    sample_day_volume = np.array(sample_input['day_volume']).reshape(1,10)\n",
        "    sample_hour_close = np.array(sample_input['hour_close']).reshape(1,10)\n",
        "    sample_hour_high = np.array(sample_input['hour_high']).reshape(1,10)\n",
        "    sample_hour_open = np.array(sample_input['hour_open']).reshape(1,10)\n",
        "    sample_hour_low = np.array(sample_input['hour_low']).reshape(1,10)\n",
        "    sample_hour_volume = np.array(sample_input['hour_volume']).reshape(1,10)\n",
        "    new_sample_day_close = transformer.transform(sample_day_close)\n",
        "    new_sample_day_high = transformer.transform(sample_day_high)\n",
        "    new_sample_day_open = transformer.transform(sample_day_open)\n",
        "    new_sample_day_low = transformer.transform(sample_day_low)\n",
        "    new_sample_day_volume = transformer.transform(sample_day_volume)\n",
        "    new_sample_hour_close = transformer.transform(sample_hour_close)\n",
        "    new_sample_hour_high = transformer.transform(sample_hour_high)\n",
        "    new_sample_hour_open = transformer.transform(sample_hour_open)\n",
        "    new_sample_hour_low = transformer.transform(sample_hour_low)\n",
        "    new_sample_hour_volume = transformer.transform(sample_hour_volume)\n",
        "    sample_image = np.zeros((30,30))\n",
        "    for i in range(0,10):\n",
        "      for j in range(0,10):\n",
        "        sample_image[i][j] = new_sample_day_close[0][i][j]\n",
        "    for i in range(0,10):\n",
        "      for j in range(10,20):\n",
        "        sample_image[i][j] = new_sample_day_high[0][i][j-10]\n",
        "    for i in range(0,10):\n",
        "      for j in range(20,30):\n",
        "        sample_image[i][j] = new_sample_day_open[0][i][j-20]\n",
        "    for i in range(10,20):\n",
        "      for j in range(0,10):\n",
        "        sample_image[i][j] = new_sample_hour_close[0][i-10][j]\n",
        "    for i in range(10,20):\n",
        "      for j in range(10,20):\n",
        "        sample_image[i][j] = new_sample_hour_high[0][i-10][j-10]\n",
        "    for i in range(10,20):\n",
        "      for j in range(20,30):\n",
        "        sample_image[i][j] = new_sample_hour_open[0][i-10][j-20]\n",
        "    for i in range(20,30):\n",
        "      for j in range(0,10):\n",
        "        sample_image[i][j] = new_sample_day_low[0][i-20][j]\n",
        "    for i in range(20,30):\n",
        "      for j in range(10,20):\n",
        "        sample_image[i][j] = new_sample_hour_low[0][i-20][j-10]\n",
        "    for i in range(20,30):\n",
        "      for j in range(20,30):\n",
        "        sample_image[i][j] = new_sample_day_volume[0][i-20][j-20]\n",
        "    show_img = sample_image\n",
        "    sample_image = sample_image.reshape((30,30,1))\n",
        "    image_data.append(sample_image)\n",
        "  return data, image_data\n"
      ],
      "execution_count": 76,
      "outputs": []
    },
    {
      "cell_type": "code",
      "metadata": {
        "colab": {
          "base_uri": "https://localhost:8080/"
        },
        "id": "HUDjGQ6WxFJ8",
        "outputId": "3c805b2b-9371-47b4-8f7d-908b6ad56122"
      },
      "source": [
        "\n",
        "index = 30\n",
        "print('Sample date: ' + str(trading_day[index].date()))\n",
        "tmp = {}\n",
        "tmp['time'] = trading_day[index].date()\n",
        "end_index = trading_day.index(trading_day[index]) + 1\n",
        "start_index = end_index - 10\n",
        "print('---')\n",
        "print(df_daily[start_index:end_index])\n",
        "tmp['day_close'] = list(df_daily[start_index:end_index]['close'])\n",
        "tmp['day_high'] = list(df_daily[start_index:end_index]['high'])\n",
        "tmp['day_open'] = list(df_daily[start_index:end_index]['open'])\n",
        "tmp['day_low'] = list(df_daily[start_index:end_index]['low'])\n",
        "tmp['day_volume'] = list(df_daily[start_index:end_index]['volume'])\n",
        "print('---')\n",
        "print(df_daily[end_index:end_index+1])\n",
        "print(df_daily[end_index-1:end_index])\n",
        "tmp['reward'] = float(df_daily[end_index:end_index+1]['open']) - float(df_daily[end_index-1:end_index]['open'])\n",
        "end_index = trading_hour.index(trading_day[index+1].date())\n",
        "start_index = end_index - 10\n",
        "print('---')\n",
        "print(df_hour[start_index:end_index])\n",
        "tmp['hour_close'] = list(df_hour[start_index:end_index]['close'])\n",
        "tmp['hour_high'] = list(df_hour[start_index:end_index]['high'])\n",
        "tmp['hour_open'] = list(df_hour[start_index:end_index]['open'])\n",
        "tmp['hour_low'] = list(df_hour[start_index:end_index]['low'])\n",
        "tmp['hour_volume'] = list(df_hour[start_index:end_index]['volume'])\n",
        "print('---')\n",
        "print('Data for sample date: ')\n",
        "tmp\n"
      ],
      "execution_count": null,
      "outputs": [
        {
          "output_type": "stream",
          "text": [
            "Sample date: 2012-02-22\n",
            "---\n",
            "            open  close  high   low       volume         money\n",
            "2012-02-09  5.60   5.67  5.75  5.54  171333382.0  9.745684e+08\n",
            "2012-02-10  5.68   5.78  5.91  5.68  243024532.0  1.417375e+09\n",
            "2012-02-13  5.57   5.67  5.74  5.47  123891872.0  6.961397e+08\n",
            "2012-02-14  5.63   5.67  5.68  5.55  119018480.0  6.664822e+08\n",
            "2012-02-15  5.63   5.76  5.76  5.60   73584525.0  4.200416e+08\n",
            "2012-02-16  5.73   5.74  5.76  5.65   54309575.0  3.100046e+08\n",
            "2012-02-17  5.78   5.74  5.79  5.68   60599109.0  3.468961e+08\n",
            "2012-02-20  5.83   5.76  5.90  5.74   97605371.0  5.695468e+08\n",
            "2012-02-21  5.77   5.83  5.84  5.73   51555750.0  2.979491e+08\n",
            "2012-02-22  5.88   6.03  6.04  5.88  164719760.0  9.854669e+08\n",
            "---\n",
            "            open  close  high  low       volume        money\n",
            "2012-02-23  6.04   6.03  6.11  6.0  103225191.0  623803904.0\n",
            "            open  close  high   low       volume        money\n",
            "2012-02-22  5.88   6.03  6.04  5.88  164719760.0  985466880.0\n",
            "---\n",
            "                     open  close  high   low      volume        money\n",
            "2012-02-20 14:00:00  5.81   5.80  5.85  5.75  13386751.0   77575637.0\n",
            "2012-02-20 15:00:00  5.79   5.76  5.81  5.74  10398471.0   60092899.0\n",
            "2012-02-21 10:30:00  5.77   5.78  5.80  5.76   6267769.0   36222915.0\n",
            "2012-02-21 11:30:00  5.78   5.77  5.79  5.73  12035566.0   69320287.0\n",
            "2012-02-21 14:00:00  5.76   5.77  5.81  5.74  10889883.0   62819220.0\n",
            "2012-02-21 15:00:00  5.76   5.83  5.83  5.76  22362455.0  129578074.0\n",
            "2012-02-22 10:30:00  5.88   5.96  6.04  5.88  77911657.0  465309046.0\n",
            "2012-02-22 11:30:00  5.96   5.96  5.98  5.93  23142228.0  137804544.0\n",
            "2012-02-22 14:00:00  5.96   5.98  5.99  5.95  18332536.0  109439885.0\n",
            "2012-02-22 15:00:00  5.99   6.03  6.04  5.99  45333272.0  272822272.0\n",
            "---\n",
            "Data for sample date: \n"
          ],
          "name": "stdout"
        },
        {
          "output_type": "execute_result",
          "data": {
            "text/plain": [
              "{'day_close': [5.67, 5.78, 5.67, 5.67, 5.76, 5.74, 5.74, 5.76, 5.83, 6.03],\n",
              " 'day_high': [5.75, 5.91, 5.74, 5.68, 5.76, 5.76, 5.79, 5.9, 5.84, 6.04],\n",
              " 'day_low': [5.54, 5.68, 5.47, 5.55, 5.6, 5.65, 5.68, 5.74, 5.73, 5.88],\n",
              " 'day_open': [5.6, 5.68, 5.57, 5.63, 5.63, 5.73, 5.78, 5.83, 5.77, 5.88],\n",
              " 'day_volume': [171333382.0,\n",
              "  243024532.0,\n",
              "  123891872.0,\n",
              "  119018480.0,\n",
              "  73584525.0,\n",
              "  54309575.0,\n",
              "  60599109.0,\n",
              "  97605371.0,\n",
              "  51555750.0,\n",
              "  164719760.0],\n",
              " 'hour_close': [5.8, 5.76, 5.78, 5.77, 5.77, 5.83, 5.96, 5.96, 5.98, 6.03],\n",
              " 'hour_high': [5.85, 5.81, 5.8, 5.79, 5.81, 5.83, 6.04, 5.98, 5.99, 6.04],\n",
              " 'hour_low': [5.75, 5.74, 5.76, 5.73, 5.74, 5.76, 5.88, 5.93, 5.95, 5.99],\n",
              " 'hour_open': [5.81, 5.79, 5.77, 5.78, 5.76, 5.76, 5.88, 5.96, 5.96, 5.99],\n",
              " 'hour_volume': [13386751.0,\n",
              "  10398471.0,\n",
              "  6267769.0,\n",
              "  12035566.0,\n",
              "  10889883.0,\n",
              "  22362455.0,\n",
              "  77911657.0,\n",
              "  23142228.0,\n",
              "  18332536.0,\n",
              "  45333272.0],\n",
              " 'reward': 0.16000000000000014,\n",
              " 'time': datetime.date(2012, 2, 22)}"
            ]
          },
          "metadata": {
            "tags": []
          },
          "execution_count": 87
        }
      ]
    },
    {
      "cell_type": "code",
      "metadata": {
        "colab": {
          "base_uri": "https://localhost:8080/",
          "height": 283
        },
        "id": "X0ednwP98NP7",
        "outputId": "e4575333-bd94-4288-d68e-58153db08a52"
      },
      "source": [
        "#show_img = image_data[2].reshape((20,20))\n",
        "plt.imshow(show_img)"
      ],
      "execution_count": null,
      "outputs": [
        {
          "output_type": "execute_result",
          "data": {
            "text/plain": [
              "<matplotlib.image.AxesImage at 0x7f89e5603b38>"
            ]
          },
          "metadata": {
            "tags": []
          },
          "execution_count": 89
        },
        {
          "output_type": "display_data",
          "data": {
            "image/png": "[encoded data removed]",
            "text/plain": [
              "<Figure size 432x288 with 1 Axes>"
            ]
          },
          "metadata": {
            "tags": []
          }
        }
      ]
    },
    {
      "cell_type": "code",
      "metadata": {
        "id": "xHmvCLrh45XD"
      },
      "source": [
        "# transfer to image test\n",
        "#close = close.reshape(1,296)\n",
        "#transformer = GramianAngularField()\n",
        "#X_new = transformer.transform(close)"
      ],
      "execution_count": null,
      "outputs": []
    },
    {
      "cell_type": "code",
      "metadata": {
        "id": "tpD54vOE9xpr"
      },
      "source": [
        "class DqnAgent:\n",
        "    def __init__(self):\n",
        "        self.q_net = self._build_dqn_model()\n",
        "        self.target_q_net = self._build_dqn_model()\n",
        "    \n",
        "    @staticmethod\n",
        "    def _build_dqn_model():\n",
        "        q_net = models.Sequential()\n",
        "        q_net.add(layers.Conv2D(32, (3, 3), activation='relu', input_shape=(30, 30, 9)))\n",
        "        q_net.add(layers.MaxPooling2D((2, 2)))\n",
        "        q_net.add(layers.Conv2D(64, (3, 3), activation='relu'))\n",
        "        #q_net.add(layers.MaxPooling2D((2, 2)))\n",
        "        q_net.add(layers.Conv2D(64, (3, 3), activation='relu'))\n",
        "        q_net.add(layers.Flatten())\n",
        "        q_net.add(layers.Dense(64, activation='relu'))\n",
        "        q_net.add(layers.Dense(len(all_actions)))\n",
        "        q_net.compile(optimizer=tf.optimizers.Adam(learning_rate=0.001),\n",
        "                      loss='mse')\n",
        "        #q_net.summary()\n",
        "        return q_net\n",
        "\n",
        "    def random_policy(self, state):\n",
        "        return np.random.randint(0, len(all_actions))\n",
        "\n",
        "    def collect_policy(self, state):\n",
        "        if np.random.random() < 0.05:\n",
        "            return self.random_policy(state)\n",
        "        return self.policy(state)\n",
        "\n",
        "    def policy(self, state):\n",
        "        state_input = tf.convert_to_tensor([state], dtype=tf.float32)\n",
        "        action_q = self.q_net(state_input)\n",
        "        action = np.argmax(action_q.numpy()[0], axis=0)\n",
        "        return action\n",
        "\n",
        "    def update_target_network(self):\n",
        "        self.target_q_net.set_weights(self.q_net.get_weights())\n",
        "\n",
        "    def train(self, batch):\n",
        "        state_batch, next_state_batch, action_batch, reward_batch, done_batch = batch\n",
        "        state_batch = tf.convert_to_tensor(state_batch, dtype=tf.float32)\n",
        "        current_q = self.q_net(state_batch).numpy()\n",
        "        target_q = np.copy(current_q)\n",
        "        next_state_batch = tf.convert_to_tensor(next_state_batch, dtype=tf.float32)\n",
        "        next_q = self.target_q_net(next_state_batch).numpy()\n",
        "        max_next_q = np.amax(next_q, axis=1)\n",
        "        for i in range(state_batch.shape[0]):\n",
        "            target_q_val = reward_batch[i]\n",
        "            if not done_batch[i]:\n",
        "                target_q_val += 0.95 * max_next_q[i]\n",
        "            target_q[i][action_batch[i]] = target_q_val\n",
        "        training_history = self.q_net.fit(x=state_batch, y=target_q, verbose=0)\n",
        "        loss = training_history.history['loss']\n",
        "        return loss"
      ],
      "execution_count": 81,
      "outputs": []
    },
    {
      "cell_type": "code",
      "metadata": {
        "id": "3vSgrsVmjRqj"
      },
      "source": [
        "def generate_action(n=9, delta=0.1):\n",
        "  # n : number of stocks\n",
        "  # delta : resolution\n",
        "  ans = []\n",
        "  tmp = []\n",
        "  def get_next(tmp, left):\n",
        "    if len(tmp) == n:\n",
        "      ans.append(tmp)\n",
        "      return\n",
        "    \n",
        "    for i in range(left+1):\n",
        "      get_next(tmp+[i], left-i)\n",
        "  get_next(tmp, n)\n",
        "  return ans"
      ],
      "execution_count": 82,
      "outputs": []
    },
    {
      "cell_type": "code",
      "metadata": {
        "colab": {
          "base_uri": "https://localhost:8080/"
        },
        "id": "LCVlivnIlcTs",
        "outputId": "cdcd5a99-c35a-47be-cbad-11919467ba6c"
      },
      "source": [
        "all_actions = generate_action()\n",
        "print(len(all_actions))"
      ],
      "execution_count": 83,
      "outputs": [
        {
          "output_type": "stream",
          "text": [
            "48620\n"
          ],
          "name": "stdout"
        }
      ]
    },
    {
      "cell_type": "code",
      "metadata": {
        "id": "GOOuGjP3-P8L"
      },
      "source": [
        "# simulate environment\n",
        "class Env:\n",
        "  def __init__(self, data, image_data):\n",
        "    self.data = data\n",
        "    self.image_data = image_data\n",
        "    self.index = 0\n",
        "    self.length = len(data) - 1\n",
        "    self.done = False\n",
        "\n",
        "  def current_state(self):\n",
        "    return [self.index, self.data[self.index], self.image_data[self.index]]\n",
        "\n",
        "  def step(self, action):\n",
        "    if self.done:\n",
        "      return 0, True\n",
        "    \n",
        "    self.index += 1\n",
        "    reward = 0\n",
        "    actions = all_actions\n",
        "    # change reward here\n",
        "    for i in range(9):\n",
        "      tmp = actions[action][i]\n",
        "      tmp = tmp / self.data[self.index][i]['day_open'][-1]\n",
        "      tmp = tmp * self.data[self.index][i]['reward']\n",
        "      reward += tmp\n",
        "    #\n",
        "    if self.index == self.length - 1:\n",
        "      self.done = True\n",
        "    return self.image_data[self.index], reward, self.done\n",
        "\n",
        "  def reset(self):\n",
        "    self.index = 0\n",
        "    self.done = False\n",
        "    return self.image_data[self.index]\n",
        "    # return state\n",
        "  \n",
        "  "
      ],
      "execution_count": 88,
      "outputs": []
    },
    {
      "cell_type": "code",
      "metadata": {
        "id": "9SbRzVHEURJ9"
      },
      "source": [
        "class ReplayBuffer:\n",
        "  def __init__(self):\n",
        "    self.experiences = deque()\n",
        "    self.max_length = 1000000\n",
        "\n",
        "  def store(self, state, next_state, reward, action, done):\n",
        "    if len(self.experiences) >= self.max_length:\n",
        "      self.experiences.popleft()\n",
        "    self.experiences.append((state, next_state, reward, action, done))\n",
        "\n",
        "  def sample(self):\n",
        "    batch_size = min(128, len(self.experiences))\n",
        "    sampled_batch = random.sample(self.experiences, batch_size)\n",
        "    state_batch, next_state_batch, action_batch, reward_batch, done_batch = [], [], [], [], []\n",
        "    for gameplay_experience in sampled_batch:\n",
        "      state_batch.append(gameplay_experience[0])\n",
        "      next_state_batch.append(gameplay_experience[1])\n",
        "      reward_batch.append(gameplay_experience[2])\n",
        "      action_batch.append(gameplay_experience[3])\n",
        "      done_batch.append(gameplay_experience[4])\n",
        "    return state_batch, next_state_batch, action_batch, reward_batch, done_batch\n"
      ],
      "execution_count": 89,
      "outputs": []
    },
    {
      "cell_type": "code",
      "metadata": {
        "id": "EIK50M-AVPvP"
      },
      "source": [
        "def evaluate_training_result(env, agent, buffer):\n",
        "    total_reward = 0.0\n",
        "    episodes_to_play = 1\n",
        "    for i in range(episodes_to_play):\n",
        "        state = env.reset()\n",
        "        done = False\n",
        "        episode_reward = 0.0\n",
        "        while not done:\n",
        "            action = agent.policy(state)\n",
        "            next_state, reward, done = env.step(action)\n",
        "            buffer.store(state, next_state, reward, action, done)\n",
        "            episode_reward += reward\n",
        "            state = next_state\n",
        "        total_reward += episode_reward\n",
        "    average_reward = total_reward / episodes_to_play\n",
        "    return average_reward\n",
        "\n",
        "\n",
        "def collect_experiences(env, agent, buffer):\n",
        "    state = env.reset()\n",
        "    done = False\n",
        "    while not done:\n",
        "        action = agent.collect_policy(state)\n",
        "        next_state, reward, done = env.step(action)\n",
        "        buffer.store(state, next_state, reward, action, done)\n",
        "        state = next_state\n",
        "\n",
        "# change max_episodes here\n",
        "def train_model(max_episodes=6000):\n",
        "    agent = DqnAgent()\n",
        "    buffer = ReplayBuffer()\n",
        "    env = Env(data, image_data)\n",
        "    for _ in range(1):\n",
        "        collect_experiences(env, agent, buffer)\n",
        "    for episode_cnt in range(max_episodes):\n",
        "        #collect_experiences(env, agent, buffer)\n",
        "        gameplay_experience_batch = buffer.sample()\n",
        "        loss = agent.train(gameplay_experience_batch)\n",
        "        avg_reward = evaluate_training_result(env, agent, buffer)\n",
        "        print('Episode {0}/{1} and so far the performance is {2} and '\n",
        "              'loss is {3}'.format(episode_cnt, max_episodes,\n",
        "                                   avg_reward, loss[0]))\n",
        "        if episode_cnt % 20 == 0:\n",
        "            agent.update_target_network()\n",
        "    print('No bug lol!!!')\n",
        "    return agent\n",
        "\n",
        "\n"
      ],
      "execution_count": 94,
      "outputs": []
    },
    {
      "cell_type": "code",
      "metadata": {
        "id": "nqwsVq21dJkO"
      },
      "source": [
        ""
      ],
      "execution_count": null,
      "outputs": []
    },
    {
      "cell_type": "code",
      "metadata": {
        "id": "-PUxCc1iuGXy"
      },
      "source": [
        "# get train data\n",
        "security_list = ['600519.XSHG', '601318.XSHG', '000858.XSHG', '600036.XSHG', '600276.XSHG', '000333.XSHE', '000651.XSHE', '600030.XSHG', '002475.XSHE']\n",
        "tmp_data_list = []\n",
        "tmp_image_data_list = []\n",
        "for security in security_list:\n",
        "  print(security)\n",
        "  data, image_data = get_train_data(security)\n",
        "  tmp_data_list.append(data)\n",
        "  tmp_image_data_list.append(image_data)\n"
      ],
      "execution_count": null,
      "outputs": []
    },
    {
      "cell_type": "code",
      "metadata": {
        "id": "ImBwPz02p9bS"
      },
      "source": [
        "# modify train data\n",
        "length = len(tmp_data_list[0])\n",
        "data = []\n",
        "image_data = []\n",
        "for i in range(length):\n",
        "  tmp_data = []\n",
        "  for j in range(len(tmp_data_list)):\n",
        "    tmp_data.append(tmp_data_list[j][i])\n",
        "  data.append(tmp_data)\n",
        "\n",
        "  tmp_image_data = [[[] for _ in range(30)] for _ in range(30) ]\n",
        "  for x in range(30):\n",
        "    for y in range(30):\n",
        "      for j in range(9):\n",
        "        tmp_image_data[x][y].append(tmp_image_data_list[j][i][x][y][0])\n",
        "  \n",
        "  image_data.append(tmp_image_data)"
      ],
      "execution_count": 92,
      "outputs": []
    },
    {
      "cell_type": "code",
      "metadata": {
        "id": "qOWQJDLfMFUt"
      },
      "source": [
        "# train model\n",
        "agent = train_model()"
      ],
      "execution_count": null,
      "outputs": []
    },
    {
      "cell_type": "code",
      "metadata": {
        "id": "XzCeU6pm7KB1"
      },
      "source": [
        "### Test\n",
        "def get_test_data(security):\n",
        "  st = 42 # starting day index\n",
        "  test_df_daily = get_price(security, start_date='2019-12-01', end_date='2020-12-31', frequency='daily')\n",
        "  test_df_hour = get_price(security, start_date='2019-12-01', end_date='2020-12-31', frequency='60m')\n",
        "\n",
        "  test_trading_hour = list(test_df_hour.index)\n",
        "  test_trading_day = list(test_df_daily.index)\n",
        "\n",
        "  test_data = []\n",
        "  for index in range(st, len(test_trading_day)-2):\n",
        "    tmp = {}\n",
        "    tmp['time'] = test_trading_day[index].date()\n",
        "    end_index = test_trading_day.index(test_trading_day[index]) + 1\n",
        "    start_index = end_index - 10\n",
        "    tmp['day_close'] = list(test_df_daily[start_index:end_index]['close'])\n",
        "    tmp['day_high'] = list(test_df_daily[start_index:end_index]['high'])\n",
        "    tmp['day_open'] = list(test_df_daily[start_index:end_index]['open'])\n",
        "    tmp['day_low'] = list(test_df_daily[start_index:end_index]['low'])\n",
        "    tmp['day_volume'] = list(test_df_daily[start_index:end_index]['volume'])\n",
        "    tmp['reward'] = float(test_df_daily[end_index:end_index+1]['open']) - float(test_df_daily[end_index-1:end_index]['open'])\n",
        "    end_index = test_trading_hour.index(test_trading_day[index+1].date())\n",
        "    start_index = end_index - 10\n",
        "    tmp['hour_close'] = list(test_df_hour[start_index:end_index]['close'])\n",
        "    tmp['hour_high'] = list(test_df_hour[start_index:end_index]['high'])\n",
        "    tmp['hour_open'] = list(test_df_hour[start_index:end_index]['open'])\n",
        "    tmp['hour_low'] = list(test_df_hour[start_index:end_index]['low'])\n",
        "    tmp['hour_volume'] = list(test_df_hour[start_index:end_index]['volume'])\n",
        "    test_data.append(tmp)\n",
        "\n",
        "  test_image_data = []\n",
        "  for index in range(len(test_data)):\n",
        "    sample_input = test_data[index]\n",
        "    transformer = GramianAngularField()\n",
        "    sample_day_close = np.array(sample_input['day_close']).reshape(1,10)\n",
        "    sample_day_high = np.array(sample_input['day_high']).reshape(1,10)\n",
        "    sample_day_open = np.array(sample_input['day_open']).reshape(1,10)\n",
        "    sample_day_low = np.array(sample_input['day_low']).reshape(1,10)\n",
        "    sample_day_volume = np.array(sample_input['day_volume']).reshape(1,10)\n",
        "    sample_hour_close = np.array(sample_input['hour_close']).reshape(1,10)\n",
        "    sample_hour_high = np.array(sample_input['hour_high']).reshape(1,10)\n",
        "    sample_hour_open = np.array(sample_input['hour_open']).reshape(1,10)\n",
        "    sample_hour_low = np.array(sample_input['hour_low']).reshape(1,10)\n",
        "    sample_hour_volume = np.array(sample_input['hour_volume']).reshape(1,10)\n",
        "    new_sample_day_close = transformer.transform(sample_day_close)\n",
        "    new_sample_day_high = transformer.transform(sample_day_high)\n",
        "    new_sample_day_open = transformer.transform(sample_day_open)\n",
        "    new_sample_day_low = transformer.transform(sample_day_low)\n",
        "    new_sample_day_volume = transformer.transform(sample_day_volume)\n",
        "    new_sample_hour_close = transformer.transform(sample_hour_close)\n",
        "    new_sample_hour_high = transformer.transform(sample_hour_high)\n",
        "    new_sample_hour_open = transformer.transform(sample_hour_open)\n",
        "    new_sample_hour_low = transformer.transform(sample_hour_low)\n",
        "    new_sample_hour_volume = transformer.transform(sample_hour_volume)\n",
        "    sample_image = np.zeros((30,30))\n",
        "    for i in range(0,10):\n",
        "      for j in range(0,10):\n",
        "        sample_image[i][j] = new_sample_day_close[0][i][j]\n",
        "    for i in range(0,10):\n",
        "      for j in range(10,20):\n",
        "        sample_image[i][j] = new_sample_day_high[0][i][j-10]\n",
        "    for i in range(0,10):\n",
        "      for j in range(20,30):\n",
        "        sample_image[i][j] = new_sample_day_open[0][i][j-20]\n",
        "    for i in range(10,20):\n",
        "      for j in range(0,10):\n",
        "        sample_image[i][j] = new_sample_hour_close[0][i-10][j]\n",
        "    for i in range(10,20):\n",
        "      for j in range(10,20):\n",
        "        sample_image[i][j] = new_sample_hour_high[0][i-10][j-10]\n",
        "    for i in range(10,20):\n",
        "      for j in range(20,30):\n",
        "        sample_image[i][j] = new_sample_hour_open[0][i-10][j-20]\n",
        "    for i in range(20,30):\n",
        "      for j in range(0,10):\n",
        "        sample_image[i][j] = new_sample_day_low[0][i-20][j]\n",
        "    for i in range(20,30):\n",
        "      for j in range(10,20):\n",
        "        sample_image[i][j] = new_sample_hour_low[0][i-20][j-10]\n",
        "    for i in range(20,30):\n",
        "      for j in range(20,30):\n",
        "        sample_image[i][j] = new_sample_day_volume[0][i-20][j-20]\n",
        "    show_img = sample_image\n",
        "    sample_image = sample_image.reshape((30,30,1))\n",
        "    test_image_data.append(sample_image)\n",
        "  return test_data, test_image_data, test_df_daily\n"
      ],
      "execution_count": 98,
      "outputs": []
    },
    {
      "cell_type": "code",
      "metadata": {
        "id": "T90s5G-4f5J0"
      },
      "source": [
        "# get test data\n",
        "tmp_data_list = []\n",
        "tmp_image_data_list = []\n",
        "open_price = []\n",
        "st=42\n",
        "for security in security_list:\n",
        "  data, image_data, df_daily = get_test_data(security)\n",
        "  open_price.append(df_daily[st:]['open'])\n",
        "  tmp_data_list.append(data)\n",
        "  tmp_image_data_list.append(image_data)\n",
        "\n",
        "length = len(tmp_data_list[0])\n",
        "data = []\n",
        "image_data = []\n",
        "for i in range(length):\n",
        "  tmp_data = []\n",
        "  for j in range(len(tmp_data_list)):\n",
        "    tmp_data.append(tmp_data_list[j][i])\n",
        "  data.append(tmp_data)\n",
        "\n",
        "  tmp_image_data = [[[] for _ in range(30)] for _ in range(30) ]\n",
        "  for x in range(30):\n",
        "    for y in range(30):\n",
        "      for j in range(9):\n",
        "        tmp_image_data[x][y].append(tmp_image_data_list[j][i][x][y][0])\n",
        "  \n",
        "  image_data.append(tmp_image_data)"
      ],
      "execution_count": 99,
      "outputs": []
    },
    {
      "cell_type": "code",
      "metadata": {
        "id": "U3_cjmrohLio"
      },
      "source": [
        "# get all actions\n",
        "actions = generate_action()"
      ],
      "execution_count": 101,
      "outputs": []
    },
    {
      "cell_type": "code",
      "metadata": {
        "id": "Fi-FfrushNJM"
      },
      "source": [
        "# generate test action\n",
        "test_action = []\n",
        "for i in range(len(image_data)-1):\n",
        "  state1 = image_data[i]\n",
        "  a = agent.collect_policy(state1)\n",
        "  test_action.append(actions[a])"
      ],
      "execution_count": 102,
      "outputs": []
    },
    {
      "cell_type": "code",
      "metadata": {
        "id": "Qj4QUN5ch9pG"
      },
      "source": [
        "# test_action"
      ],
      "execution_count": null,
      "outputs": []
    },
    {
      "cell_type": "code",
      "metadata": {
        "colab": {
          "base_uri": "https://localhost:8080/"
        },
        "id": "kLN5kc8vFIFm",
        "outputId": "5e77d8bf-ba33-40b9-d706-9886f4c69b5f"
      },
      "source": [
        "# test according to fund\n",
        "# bah_weight = [17, 17, 9, 8, 7, 7, 5, 5, 5]\n",
        "# bah_money = []\n",
        "# for i in bah_weight:\n",
        "#   bah_money.append(900000*i/sum(bah_weight))\n",
        "# print(bah_money)"
      ],
      "execution_count": 139,
      "outputs": [
        {
          "output_type": "stream",
          "text": [
            "[191250.0, 191250.0, 101250.0, 90000.0, 78750.0, 78750.0, 56250.0, 56250.0, 56250.0]\n"
          ],
          "name": "stdout"
        }
      ]
    },
    {
      "cell_type": "code",
      "metadata": {
        "id": "Cu4bj52eiyhi"
      },
      "source": [
        "before = []\n",
        "after = []\n",
        "bah_money = [100000 for _ in range(9)]\n",
        "bah_shares = [0 for _ in range(9)]\n",
        "long_money = [100000 for _ in range(9)]\n",
        "long_shares = [0 for _ in range(9)]\n",
        "extra_money = 0\n",
        "#total_long_money = 400000\n",
        "for i in range(len(test_action)):\n",
        "  for j in range(9):\n",
        "    if long_shares[j] != 0:\n",
        "      long_money[j] = long_shares[j] * open_price[j][i+1]\n",
        "      long_shares[j] = 0\n",
        "    if bah_shares[j] != 0:\n",
        "      bah_money[j] = bah_shares[j] * open_price[j][i+1]\n",
        "      bah_shares[j] = 0\n",
        "  before.append(sum(bah_money))\n",
        "  after.append(sum(long_money)+extra_money)\n",
        "  # print(long_money)\n",
        "  # print(test_action[i])\n",
        "  total_long_money = sum(long_money) + extra_money\n",
        "  for j in range(9):\n",
        "    if i > 0:\n",
        "      loss_pct = (open_price[j][i] - open_price[j][i-1]) / open_price[j][i-1]\n",
        "      if loss_pct < -0.03:\n",
        "        long_shares[j] = 0\n",
        "        # print('stop loss')\n",
        "        # print(loss_pct)\n",
        "        # print(i,j)\n",
        "        # print(test_action[i][j])\n",
        "      else:\n",
        "        long_shares[j] = total_long_money * test_action[i][j] / 9 / open_price[j][i+1]\n",
        "    else:\n",
        "      long_shares[j] = total_long_money * test_action[i][j] / 9 / open_price[j][i+1]\n",
        "    long_money[j] = long_shares[j] * open_price[j][i+1]\n",
        "    bah_shares[j] = bah_money[j]/open_price[j][i+1]\n",
        "  extra_money = after[-1] - sum(long_money)\n",
        "  # print(extra_money)\n"
      ],
      "execution_count": 151,
      "outputs": []
    },
    {
      "cell_type": "code",
      "metadata": {
        "id": "h8mrp6T7oxHy"
      },
      "source": [
        "base = 900000\n",
        "for i in range(len(before)):\n",
        "  before[i] = (before[i] - base) / base\n",
        "  after[i] = (after[i] - base) / base"
      ],
      "execution_count": 152,
      "outputs": []
    },
    {
      "cell_type": "code",
      "metadata": {
        "id": "I0XRs5CEG4Pp"
      },
      "source": [
        "after_without_stoploss = after.copy()"
      ],
      "execution_count": 150,
      "outputs": []
    },
    {
      "cell_type": "code",
      "metadata": {
        "id": "WrgOuGH1E9SR"
      },
      "source": [
        "bah = before.copy()"
      ],
      "execution_count": 136,
      "outputs": []
    },
    {
      "cell_type": "code",
      "metadata": {
        "colab": {
          "base_uri": "https://localhost:8080/",
          "height": 282
        },
        "id": "nndpiCuRll2p",
        "outputId": "79978656-3af9-4e61-b64a-745d8c2df884"
      },
      "source": [
        "plt.plot(after,label='after')\n",
        "plt.plot(bah,label='bah')\n",
        "#plt.plot(before,label=\"fund\")\n",
        "plt.plot(after_without_stoploss,label=\"after_without\")\n",
        "plt.legend()"
      ],
      "execution_count": 154,
      "outputs": [
        {
          "output_type": "execute_result",
          "data": {
            "text/plain": [
              "<matplotlib.legend.Legend at 0x7f2566c609b0>"
            ]
          },
          "metadata": {
            "tags": []
          },
          "execution_count": 154
        },
        {
          "output_type": "display_data",
          "data": {
            "image/png": "[encoded data removed]",
            "text/plain": [
              "<Figure size 432x288 with 1 Axes>"
            ]
          },
          "metadata": {
            "tags": [],
            "needs_background": "light"
          }
        }
      ]
    },
    {
      "cell_type": "code",
      "metadata": {
        "id": "gtLAKjqtQqSH"
      },
      "source": [
        ""
      ],
      "execution_count": null,
      "outputs": []
    }
  ]
}